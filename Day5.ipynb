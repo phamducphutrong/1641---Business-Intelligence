{
 "cells": [
  {
   "cell_type": "code",
   "execution_count": 1,
   "metadata": {},
   "outputs": [],
   "source": [
    "rooms = {'Mike':101, 'Bibi':102, 'Bobo': 103, 'Bibo': 104}"
   ]
  },
  {
   "cell_type": "code",
   "execution_count": 6,
   "metadata": {},
   "outputs": [
    {
     "name": "stdout",
     "output_type": "stream",
     "text": [
      "Mike is in room 101\n",
      "Bibi is in room 102\n",
      "Bobo is in room 103\n",
      "Bibo is in room 104\n",
      "Bebe is in room 105\n"
     ]
    }
   ],
   "source": [
    "for guest in rooms:\n",
    "    print(f'{guest} is in room {rooms[guest]}')"
   ]
  },
  {
   "cell_type": "code",
   "execution_count": 3,
   "metadata": {},
   "outputs": [
    {
     "name": "stdout",
     "output_type": "stream",
     "text": [
      "{'Mike': 101, 'Bibi': 102, 'Bobo': 103, 'Bibo': 104, 'Bebe': 105}\n"
     ]
    }
   ],
   "source": [
    "# Add new guest into dictionary\n",
    "name = input('Enter name: ')\n",
    "room_number = int(input(\"Enter room's number: \"))\n",
    "rooms[name] = room_number\n",
    "print(rooms)"
   ]
  },
  {
   "cell_type": "code",
   "execution_count": 7,
   "metadata": {},
   "outputs": [
    {
     "name": "stdout",
     "output_type": "stream",
     "text": [
      "{'Mike': 101, 'Bibi': 102, 'Bobo': 103, 'Bibo': 104, 'Bebe': 104}\n"
     ]
    }
   ],
   "source": [
    "# Edit a existed guest in dictionary\n",
    "name = input('Enter name: ')\n",
    "if name in rooms:\n",
    "    new_room_number = int(input(\"Enter new room's number: \"))\n",
    "    rooms[name] = new_room_number\n",
    "    print(rooms)\n",
    "else:\n",
    "    print(f'Guest {name} is not in dictionary')"
   ]
  },
  {
   "cell_type": "code",
   "execution_count": 8,
   "metadata": {},
   "outputs": [
    {
     "name": "stdout",
     "output_type": "stream",
     "text": [
      "Guest Bebe has removed from dictionary\n"
     ]
    }
   ],
   "source": [
    "# Remove a existed guest in dictionary\n",
    "name = input('Enter name: ')\n",
    "if name in rooms:\n",
    "    room_number = rooms.pop(name)\n",
    "    print(f'Guest {name} has removed from dictionary')\n",
    "    print(rooms)\n",
    "else:\n",
    "    print(f'Guest {name} is not in dictionary')"
   ]
  },
  {
   "cell_type": "code",
   "execution_count": 18,
   "metadata": {},
   "outputs": [
    {
     "name": "stdout",
     "output_type": "stream",
     "text": [
      "{'GCH1001': ['John Lenon', 75], 'GCH1002': ['Paul', 80], 'GCH1003': ['George', 65], 'GCH1004': ['John Lenon', 40]}\n"
     ]
    }
   ],
   "source": [
    "students = {'GCH1001' : ['John Lenon', 75], 'GCH1002': ['Paul', 80], 'GCH1003' : ['George', 65], 'GCH1004' : ['John Lenon', 40]}\n",
    "print(students)"
   ]
  },
  {
   "cell_type": "code",
   "execution_count": 10,
   "metadata": {},
   "outputs": [
    {
     "name": "stdout",
     "output_type": "stream",
     "text": [
      "ID: GCH1001, Name: John Lenon, Grade: 75\n"
     ]
    }
   ],
   "source": [
    "id = input('Please enter stuent ID: ')\n",
    "if id in students:\n",
    "    print(f'ID: {id}, Name: {students[id][0]}, Grade: {students[id][1]}')"
   ]
  },
  {
   "cell_type": "code",
   "execution_count": 17,
   "metadata": {},
   "outputs": [
    {
     "name": "stdout",
     "output_type": "stream",
     "text": [
      "{'GCH1001': ['John Lenon', 75], 'GCH1002': ['Paul', 80], 'GCH1003': ['George', 65], 'GCH1004': ['John Lenon', 40], 'Mike': ['Mike', 0]}\n"
     ]
    }
   ],
   "source": [
    "#Enroll student by enter ID, name (grade = 0)\n",
    "id = input('Enter student ID: ')\n",
    "if id in students:\n",
    "    print(f'Student has {id} is existed in students!')\n",
    "else:\n",
    "    name = input('Enter student name: ')\n",
    "    grade = 0\n",
    "    student_info = [name, grade]\n",
    "    students[name] = student_info\n",
    "    print(students)"
   ]
  },
  {
   "cell_type": "code",
   "execution_count": 19,
   "metadata": {},
   "outputs": [
    {
     "name": "stdout",
     "output_type": "stream",
     "text": [
      "{'GCH1001': ['John Lenon', 75], 'GCH1002': ['Paul', 80], 'GCH1003': ['George', 65], 'GCH1004': ['John Lenon', 45]}\n"
     ]
    }
   ],
   "source": [
    "#Update student grade by enter ID, grade\n",
    "id = input('Enter student ID: ')\n",
    "if id not in students:\n",
    "    print(f'Student has {id} is not existed in students!')\n",
    "else:\n",
    "    grade = int(input(\"Enter student's grade: \"))\n",
    "    students[id][1] = grade\n",
    "    print(students)"
   ]
  },
  {
   "cell_type": "code",
   "execution_count": 21,
   "metadata": {},
   "outputs": [
    {
     "name": "stdout",
     "output_type": "stream",
     "text": [
      "Student John Lenon has been removed from students\n",
      "{'GCH1002': ['Paul', 80], 'GCH1003': ['George', 65], 'GCH1004': ['John Lenon', 45]}\n"
     ]
    }
   ],
   "source": [
    "#Drop out student by enter ID\n",
    "id = input('Enter student ID: ')\n",
    "if id not in students:\n",
    "    print(f'Student has {id} is not existed in students!')\n",
    "else:\n",
    "    name = students[id][0]\n",
    "    students.pop(id)\n",
    "    print(f'Student {name} has been removed from students')\n",
    "    print(students)"
   ]
  },
  {
   "cell_type": "code",
   "execution_count": 58,
   "metadata": {},
   "outputs": [],
   "source": [
    "students = {'Mike':10.0, 'Bibi':9.0, 'Bobo': 7.0, 'Bibo': 5.5, 'Bebe' : 10.0}"
   ]
  },
  {
   "cell_type": "code",
   "execution_count": 59,
   "metadata": {},
   "outputs": [
    {
     "name": "stdout",
     "output_type": "stream",
     "text": [
      "{'Mike': 10.0, 'Bibi': 9.0, 'Bobo': 7.0, 'Bibo': 5.5, 'Bebe': 10.0}\n"
     ]
    }
   ],
   "source": [
    "print(students)"
   ]
  },
  {
   "cell_type": "code",
   "execution_count": 63,
   "metadata": {},
   "outputs": [
    {
     "name": "stdout",
     "output_type": "stream",
     "text": [
      "10.0\n",
      "Mike\n"
     ]
    }
   ],
   "source": [
    "max_GPA_student = max(students.values())\n",
    "print(max_GPA_student)\n",
    "print(max(students, key=students.get))"
   ]
  },
  {
   "cell_type": "code",
   "execution_count": 57,
   "metadata": {},
   "outputs": [
    {
     "name": "stdout",
     "output_type": "stream",
     "text": [
      "5.5\n"
     ]
    }
   ],
   "source": [
    "min_GPA_student = min(students.values())\n",
    "print(min_GPA_student)"
   ]
  },
  {
   "cell_type": "code",
   "execution_count": 62,
   "metadata": {},
   "outputs": [
    {
     "name": "stdout",
     "output_type": "stream",
     "text": [
      "8.3\n",
      "8.3\n"
     ]
    }
   ],
   "source": [
    "print(sum(students.values()) / len(students))"
   ]
  },
  {
   "cell_type": "code",
   "execution_count": 28,
   "metadata": {},
   "outputs": [
    {
     "name": "stdout",
     "output_type": "stream",
     "text": [
      "Student Mike has GPA is: 10.0\n"
     ]
    }
   ],
   "source": [
    "name = input(\"Enter student's name: \")\n",
    "if name not in students:\n",
    "    print(f'Student {name} is not existed in students!')\n",
    "else:\n",
    "    print(f'Student {name} has GPA is: {students[name]}')"
   ]
  },
  {
   "cell_type": "code",
   "execution_count": 30,
   "metadata": {},
   "outputs": [
    {
     "name": "stdout",
     "output_type": "stream",
     "text": [
      "Student Mike has GPA is: 9.0\n"
     ]
    }
   ],
   "source": [
    "name = input(\"Enter student's name: \")\n",
    "if name not in students:\n",
    "    print(f'Student {name} is not existed in students!')\n",
    "else:\n",
    "    new_GPA = float(input('Enter new GPA: '))\n",
    "    students[name] = new_GPA\n",
    "    print(f'Student {name} has GPA is: {students[name]}')"
   ]
  },
  {
   "cell_type": "code",
   "execution_count": 31,
   "metadata": {},
   "outputs": [
    {
     "name": "stdout",
     "output_type": "stream",
     "text": [
      "Student Mike has been removed from the students!\n"
     ]
    }
   ],
   "source": [
    "name = input(\"Enter student's name: \")\n",
    "if name not in students:\n",
    "    print(f'Student {name} is not existed in students!')\n",
    "else:\n",
    "    students.pop(name)\n",
    "    print(f'Student {name} has been removed from the students!')"
   ]
  },
  {
   "cell_type": "code",
   "execution_count": 61,
   "metadata": {},
   "outputs": [
    {
     "name": "stdout",
     "output_type": "stream",
     "text": [
      "{'Mike': 10.0, 'Bibi': 9.0, 'Bobo': 7.0, 'Bibo': 5.5, 'Bebe': 10.0}\n"
     ]
    }
   ],
   "source": [
    "print(students)"
   ]
  }
 ],
 "metadata": {
  "kernelspec": {
   "display_name": "Python 3.10.7 64-bit",
   "language": "python",
   "name": "python3"
  },
  "language_info": {
   "codemirror_mode": {
    "name": "ipython",
    "version": 3
   },
   "file_extension": ".py",
   "mimetype": "text/x-python",
   "name": "python",
   "nbconvert_exporter": "python",
   "pygments_lexer": "ipython3",
   "version": "3.10.7"
  },
  "orig_nbformat": 4,
  "vscode": {
   "interpreter": {
    "hash": "4bab23f09fb65a505bfbe81ca14cc25f1573a18df8f89bc62fc496e048d8d28a"
   }
  }
 },
 "nbformat": 4,
 "nbformat_minor": 2
}
