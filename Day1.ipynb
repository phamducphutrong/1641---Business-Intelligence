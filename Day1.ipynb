{
 "cells": [
  {
   "cell_type": "code",
   "execution_count": 1,
   "metadata": {},
   "outputs": [
    {
     "name": "stdout",
     "output_type": "stream",
     "text": [
      "Max is:  21\n"
     ]
    }
   ],
   "source": [
    "a = 21\n",
    "b = 20\n",
    "if a > b:\n",
    "    m = a\n",
    "else:\n",
    "    m = b\n",
    "print('Max is: ', m)"
   ]
  },
  {
   "cell_type": "code",
   "execution_count": 2,
   "metadata": {},
   "outputs": [
    {
     "name": "stdout",
     "output_type": "stream",
     "text": [
      "2, 3, 4 are sides of a triangle\n",
      "Area = 2.90\n"
     ]
    }
   ],
   "source": [
    "a = int(input('Enter a: '))\n",
    "b = int(input('Enter b: '))\n",
    "c = int(input('Enter c: '))\n",
    "\n",
    "if a <= 0 or b <= 0 or c <= 0:\n",
    "    print('All are negative')\n",
    "elif a + b <= c or b + c <= a or c + a <= b:\n",
    "    print('Sum of any two sides should be greater then the third side')\n",
    "else:\n",
    "    print(f'{a}, {b}, {c} are sides of a triangle')\n",
    "    p = (a + b + c) / 2\n",
    "    s = (p * (p - a) * (p - b) * (p - c)) ** 0.5\n",
    "    print('Area = {:.2f}'.format(s))"
   ]
  },
  {
   "cell_type": "code",
   "execution_count": 5,
   "metadata": {},
   "outputs": [
    {
     "name": "stdout",
     "output_type": "stream",
     "text": [
      "|100       |\n",
      "|      3.14|\n",
      "|    Hello Python    |\n"
     ]
    }
   ],
   "source": [
    "a = 100\n",
    "b = 3.1415\n",
    "s = 'Hello Python'\n",
    "\n",
    "print('|{:<10d}|'.format(a))\n",
    "print('|{:>10.2f}|'.format(b))\n",
    "print('|{:^20s}|'.format(s))\n"
   ]
  },
  {
   "cell_type": "code",
   "execution_count": 12,
   "metadata": {},
   "outputs": [
    {
     "name": "stdout",
     "output_type": "stream",
     "text": [
      "English   :           10.0\n",
      "Math      :           10.0\n",
      "Science   :           10.0\n",
      "Average   :           10.0\n",
      "Rank      :    distinction\n"
     ]
    }
   ],
   "source": [
    "english = float(input('Enter english:'))\n",
    "math = float(input('Enter math:'))\n",
    "science = float(input('Enter science:'))\n",
    "average = (english + math + science) / 3\n",
    "if average >= 8.0:\n",
    "    rank = 'distinction'\n",
    "elif average >= 6.0:\n",
    "    rank = 'Merit'\n",
    "elif average >= 5.0:\n",
    "    rank = 'Pass'\n",
    "else:\n",
    "    rank = 'Refer'\n",
    "\n",
    "print('{:<10s}:{:>15.1f}'.format('English', english))\n",
    "print('{:<10s}:{:>15.1f}'.format('Math', math))\n",
    "print('{:<10s}:{:>15.1f}'.format('Science', science))\n",
    "print('{:<10s}:{:>15.1f}'.format('Average', average))\n",
    "print('{:<10s}:{:>15s}'.format('Rank', rank))"
   ]
  },
  {
   "cell_type": "code",
   "execution_count": 8,
   "metadata": {},
   "outputs": [
    {
     "name": "stdout",
     "output_type": "stream",
     "text": [
      "0 1 2 3 4 5 6 7 8 9 \n",
      "1 3 5 7 9 \n",
      "10 9 8 7 6 5 4 3 2 1 "
     ]
    }
   ],
   "source": [
    "for i in range(10):\n",
    "    print(i, end = \" \")\n",
    "print()\n",
    "for i in range(1, 10, 2):\n",
    "    print(i, end = \" \")\n",
    "print()\n",
    "for i in range(10, 0, -1):\n",
    "    print(i, end = \" \")"
   ]
  },
  {
   "cell_type": "code",
   "execution_count": 22,
   "metadata": {},
   "outputs": [
    {
     "name": "stdout",
     "output_type": "stream",
     "text": [
      "21\n",
      "12\n",
      "* \n",
      "* * \n",
      "* * * \n",
      "* * * * \n",
      "* * * * * \n",
      "* * * * * * \n",
      "1 \n",
      "1 2 \n",
      "1 2 3 \n",
      "1 2 3 4 \n",
      "1 2 3 4 5 \n",
      "1 2 3 4 5 6 \n"
     ]
    }
   ],
   "source": [
    "# Enter n, calculate 1 + 2 + 3 + ... + n\n",
    "n = 6\n",
    "total = 0\n",
    "for i in range(1, n + 1):\n",
    "    total += i\n",
    "print(total)\n",
    "\n",
    "# Enter n, calculate even numbers from 1 to n (inclusive)\n",
    "totalEven = 0\n",
    "for i in range(1, n + 1, 1):\n",
    "    if i % 2 == 0:\n",
    "        totalEven += i\n",
    "print(totalEven)\n",
    "\n",
    "# Enter n, print triangle of starts\n",
    "for i in range(1, n + 1, 1):\n",
    "    for v in range(1, i + 1):\n",
    "        print('*', end = ' ')\n",
    "    print()\n",
    "\n",
    "# Enter n print triangle of numbers\n",
    "for i in range(1, n + 1, 1):\n",
    "    for j in range(1, i + 1):\n",
    "        print(j, end = \" \")\n",
    "    print()\n"
   ]
  },
  {
   "cell_type": "code",
   "execution_count": 23,
   "metadata": {},
   "outputs": [
    {
     "name": "stdout",
     "output_type": "stream",
     "text": [
      "Stop here\n",
      "Sum =  15\n"
     ]
    }
   ],
   "source": [
    "s = 0\n",
    "n = 1\n",
    "while n > 0:\n",
    "    n = int(input('Enter n: '))\n",
    "    if n > 0:\n",
    "        s += n\n",
    "    else:\n",
    "        print('Stop here')\n",
    "\n",
    "print('Sum = ', s)"
   ]
  },
  {
   "cell_type": "code",
   "execution_count": 41,
   "metadata": {},
   "outputs": [
    {
     "name": "stdout",
     "output_type": "stream",
     "text": [
      "Welcome to movie shop :D\n",
      "One ticket has $2.5!\n",
      "You have to pay $ 12.5 for this bill\n",
      "Remaining payment:  7.5\n",
      "Remaining payment:  2.5\n",
      "your change:  2.5\n"
     ]
    }
   ],
   "source": [
    "ticket = 2.5\n",
    "print('Welcome to movie shop :D')\n",
    "print('One ticket has $2.5!')\n",
    "number_tickets = 0\n",
    "while number_tickets <= 0:\n",
    "    number_tickets = int(input('Enter your number of tickets you want to buy?'))\n",
    "    if number_tickets <= 0:\n",
    "        print('Number of tickets must be greater than $0!')\n",
    "total_price = number_tickets * ticket\n",
    "print('You have to pay $', str(total_price) + ' for this bill')\n",
    "while total_price > 0:\n",
    "    pay = float(input('Enter money: '))\n",
    "    if pay not in (1, 2, 5):\n",
    "        print('You just can pay money in the following value: $1, $2, $5!')\n",
    "        continue\n",
    "    total_price -= pay\n",
    "    if total_price > 0:\n",
    "        print('Remaining payment: ', total_price)\n",
    "        \n",
    "if total_price < 0:\n",
    "    print('your change: ', -total_price)"
   ]
  }
 ],
 "metadata": {
  "kernelspec": {
   "display_name": "Python 3.10.7 64-bit",
   "language": "python",
   "name": "python3"
  },
  "language_info": {
   "codemirror_mode": {
    "name": "ipython",
    "version": 3
   },
   "file_extension": ".py",
   "mimetype": "text/x-python",
   "name": "python",
   "nbconvert_exporter": "python",
   "pygments_lexer": "ipython3",
   "version": "3.10.7"
  },
  "orig_nbformat": 4,
  "vscode": {
   "interpreter": {
    "hash": "4bab23f09fb65a505bfbe81ca14cc25f1573a18df8f89bc62fc496e048d8d28a"
   }
  }
 },
 "nbformat": 4,
 "nbformat_minor": 2
}
