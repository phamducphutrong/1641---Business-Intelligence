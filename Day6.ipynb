{
 "cells": [
  {
   "cell_type": "code",
   "execution_count": 26,
   "metadata": {},
   "outputs": [],
   "source": [
    "# search for x in items, return True if found, False othewise. If abs = True, search for |x|\n",
    "def search(items, x, abs=True):\n",
    "    if abs == False:\n",
    "        return x in items\n",
    "    else:\n",
    "        return x in items or -x in items\n"
   ]
  },
  {
   "cell_type": "code",
   "execution_count": 27,
   "metadata": {},
   "outputs": [
    {
     "name": "stdout",
     "output_type": "stream",
     "text": [
      "True\n",
      "True\n"
     ]
    }
   ],
   "source": [
    "print(search((3, 2, 5, 7), -3))\n",
    "print(search((-3, 2, 5, 7, 3), -3, True))"
   ]
  },
  {
   "cell_type": "code",
   "execution_count": 28,
   "metadata": {},
   "outputs": [],
   "source": [
    "def my_max(items, key=None):\n",
    "    if key is None:\n",
    "        m = items[0]\n",
    "        for i in items:\n",
    "            if i > m:\n",
    "                m = i\n",
    "        return m\n",
    "    else:\n",
    "        m =items[0]\n",
    "        for i in items:\n",
    "            if key(i) > key(m):\n",
    "                m = i\n",
    "        return m"
   ]
  },
  {
   "cell_type": "code",
   "execution_count": 34,
   "metadata": {},
   "outputs": [
    {
     "name": "stdout",
     "output_type": "stream",
     "text": [
      "k12 buonhh\n",
      "b12345678 zung\n"
     ]
    }
   ],
   "source": [
    "names = ['abcdefgh ahhi', 'b12345678 zung', 'c12345 long', 'k12 buonhh']\n",
    "m= my_max(names)\n",
    "print(m)\n",
    "m = my_max(names, key=len)\n",
    "print(m)"
   ]
  },
  {
   "cell_type": "code",
   "execution_count": 38,
   "metadata": {},
   "outputs": [
    {
     "name": "stdout",
     "output_type": "stream",
     "text": [
      "b12345678 zung\n"
     ]
    }
   ],
   "source": [
    "# Find name that has max last name\n",
    "def last_name(name):\n",
    "    return name.split()[-1]\n",
    "\n",
    "m = my_max(names, key=last_name)\n",
    "print(m)"
   ]
  },
  {
   "cell_type": "code",
   "execution_count": 39,
   "metadata": {},
   "outputs": [
    {
     "name": "stdout",
     "output_type": "stream",
     "text": [
      "abcdefgh ahhi\n"
     ]
    }
   ],
   "source": [
    "# Find name that has max number of vowels\n",
    "def count_vowels(name):\n",
    "    count = 0\n",
    "    vowels = 'ueoai'\n",
    "    for c in name.lower():\n",
    "        if c in vowels:\n",
    "            count += 1\n",
    "    return count\n",
    "\n",
    "m = my_max(names, key=count_vowels)\n",
    "print(m)"
   ]
  },
  {
   "cell_type": "code",
   "execution_count": 40,
   "metadata": {},
   "outputs": [
    {
     "name": "stdout",
     "output_type": "stream",
     "text": [
      "89\n"
     ]
    }
   ],
   "source": [
    "# Find number that has max last digit\n",
    "numbers = [13, 54, 65, 33, 89, 34]\n",
    "def get_last_digit(number):\n",
    "    return number % 10\n",
    "\n",
    "print(my_max(numbers, key=get_last_digit))"
   ]
  },
  {
   "cell_type": "code",
   "execution_count": 43,
   "metadata": {},
   "outputs": [
    {
     "name": "stdout",
     "output_type": "stream",
     "text": [
      "89\n",
      "89\n"
     ]
    }
   ],
   "source": [
    "# Find number that has max sum of digits\n",
    "def sum_of_digits(number):\n",
    "    a = int(number // 10)\n",
    "    b = number % 10\n",
    "    return a + b\n",
    "print(my_max(numbers, key=sum_of_digits))\n",
    "\n",
    "# Find number that has max absolute value\n",
    "print(my_max(numbers, key=abs))"
   ]
  }
 ],
 "metadata": {
  "kernelspec": {
   "display_name": "Python 3.10.7 64-bit",
   "language": "python",
   "name": "python3"
  },
  "language_info": {
   "codemirror_mode": {
    "name": "ipython",
    "version": 3
   },
   "file_extension": ".py",
   "mimetype": "text/x-python",
   "name": "python",
   "nbconvert_exporter": "python",
   "pygments_lexer": "ipython3",
   "version": "3.10.7"
  },
  "orig_nbformat": 4,
  "vscode": {
   "interpreter": {
    "hash": "4bab23f09fb65a505bfbe81ca14cc25f1573a18df8f89bc62fc496e048d8d28a"
   }
  }
 },
 "nbformat": 4,
 "nbformat_minor": 2
}
