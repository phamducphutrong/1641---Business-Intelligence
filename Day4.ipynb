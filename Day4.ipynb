{
 "cells": [
  {
   "cell_type": "code",
   "execution_count": 12,
   "metadata": {},
   "outputs": [
    {
     "name": "stdout",
     "output_type": "stream",
     "text": [
      "[7, -88, 18, 99, 97, -67, 33, -8, -6, -21, -52, -99, 50, -83, -86]\n",
      "[-88, 18, -8, -6, -52, 50, -86]\n",
      "[-88, -67, -8, -6, -21, -52, -99, -83, -86]\n",
      "[7, 99, 97, -67, 33, -21, -99, -83]\n",
      "[7, 18, 99, 97, 33, 50]\n"
     ]
    }
   ],
   "source": [
    "import random as rd\n",
    "# generate a list of 10 random integers between 0 and 100\n",
    "numbers = rd.sample(range(-100, 100), 15)\n",
    "print(numbers)\n",
    "evens = [n for n in numbers if n % 2 == 0]\n",
    "print(evens)\n",
    "negatives = [n for n in numbers if n < 0]\n",
    "print(negatives)\n",
    "odds = [n for n in numbers if n % 2 != 0]\n",
    "print(odds)\n",
    "positives = [n for n in numbers if n > 0]\n",
    "print(positives)"
   ]
  },
  {
   "cell_type": "code",
   "execution_count": 10,
   "metadata": {},
   "outputs": [
    {
     "name": "stdout",
     "output_type": "stream",
     "text": [
      "John Yoko Lennon\n"
     ]
    }
   ],
   "source": [
    "the_beatles = ['John Yoko Lennon', 'ABCDEFGH', '123456789000', 'Ringo Starr']\n",
    "lengths = [len(n) for n in the_beatles]\n",
    "# find longest name\n",
    "print(the_beatles[lengths.index(max(lengths))])"
   ]
  },
  {
   "cell_type": "code",
   "execution_count": 13,
   "metadata": {},
   "outputs": [
    {
     "name": "stdout",
     "output_type": "stream",
     "text": [
      "[7, -88, 18, 99, 97, -67, 33, -8, -6, -21, -52, -99, 50, -83, -86]\n",
      "[7, 88, 18, 99, 97, 67, 33, 8, 6, 21, 52, 99, 50, 83, 86]\n"
     ]
    }
   ],
   "source": [
    "#convert old list to new list using list comprehension\n",
    "print(numbers)\n",
    "new_numbers = [n if n > 0 else -n for n in numbers]\n",
    "print(new_numbers)"
   ]
  },
  {
   "cell_type": "code",
   "execution_count": 15,
   "metadata": {},
   "outputs": [
    {
     "name": "stdout",
     "output_type": "stream",
     "text": [
      "7\n",
      "7\n"
     ]
    }
   ],
   "source": [
    "# count how many even numbers in the list new_numbers\n",
    "print(len([n for n in new_numbers if n % 2 == 0]))\n",
    "print(sum(1 if n % 2 == 0 else 0 for n in new_numbers))"
   ]
  }
 ],
 "metadata": {
  "kernelspec": {
   "display_name": "Python 3.10.7 64-bit",
   "language": "python",
   "name": "python3"
  },
  "language_info": {
   "codemirror_mode": {
    "name": "ipython",
    "version": 3
   },
   "file_extension": ".py",
   "mimetype": "text/x-python",
   "name": "python",
   "nbconvert_exporter": "python",
   "pygments_lexer": "ipython3",
   "version": "3.10.7"
  },
  "orig_nbformat": 4,
  "vscode": {
   "interpreter": {
    "hash": "4bab23f09fb65a505bfbe81ca14cc25f1573a18df8f89bc62fc496e048d8d28a"
   }
  }
 },
 "nbformat": 4,
 "nbformat_minor": 2
}
