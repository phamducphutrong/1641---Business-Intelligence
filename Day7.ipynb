{
 "cells": [
  {
   "cell_type": "code",
   "execution_count": 2,
   "metadata": {},
   "outputs": [],
   "source": [
    "def my_sort(a, compare=lambda a, b : a < b):\n",
    "    n = len(a)\n",
    "    for i in range(n - 1):\n",
    "        for j in range(i + 1, n):\n",
    "            if compare(a[j], a[i]):\n",
    "                a[i], a[j] = a[j], a[i]"
   ]
  },
  {
   "cell_type": "code",
   "execution_count": 3,
   "metadata": {},
   "outputs": [
    {
     "name": "stdout",
     "output_type": "stream",
     "text": [
      "[36, 30, 51, 19, 56, 90, 27, 13, 52, 16]\n",
      "[13, 16, 19, 27, 30, 36, 51, 52, 56, 90]\n",
      "[90, 56, 52, 51, 36, 30, 27, 19, 16, 13]\n"
     ]
    }
   ],
   "source": [
    "import random as rd\n",
    "numbers = [rd.randint(10,99) for _ in range(10)]\n",
    "print(numbers)\n",
    "my_sort(numbers)\n",
    "print(numbers)\n",
    "my_sort(numbers, compare=lambda x , y : x > y)\n",
    "print(numbers)"
   ]
  },
  {
   "cell_type": "code",
   "execution_count": 7,
   "metadata": {},
   "outputs": [
    {
     "name": "stdout",
     "output_type": "stream",
     "text": [
      "[91, 11, 11, 42, 23, 16, 48, 59, 39, 79]\n",
      "[59, 39, 79, 48, 16, 23, 42, 11, 11, 91]\n",
      "[11, 11, 23, 42, 16, 91, 39, 48, 59, 79]\n",
      "[79, 59, 39, 48, 91, 16, 42, 23, 11, 11]\n"
     ]
    }
   ],
   "source": [
    "# sort ascending by the last digit\n",
    "my_sort(numbers, compare=lambda x, y : x % 10 < y % 10)\n",
    "print(numbers)\n",
    "# sort desending by the last digit\n",
    "my_sort(numbers, compare=lambda x, y : x % 10 > y % 10)\n",
    "print(numbers)\n",
    "# sort asending by sum of 2 digits\n",
    "my_sort(numbers, compare=lambda x, y : x // 10 + x % 10 < y // 10 + y % 10)\n",
    "print(numbers)\n",
    "# sort descending by sum of 2 digits\n",
    "my_sort(numbers, compare=lambda x, y : x // 10 + x % 10 > y // 10 + y % 10)\n",
    "print(numbers)"
   ]
  },
  {
   "cell_type": "code",
   "execution_count": 9,
   "metadata": {},
   "outputs": [
    {
     "name": "stdout",
     "output_type": "stream",
     "text": [
      "['Angelina Jolie', 'Brad Pitt', 'Jennifer Aniston', 'Leonardo DiCaprio', 'Tom Hanks']\n",
      "['Tom Hanks', 'Leonardo DiCaprio', 'Jennifer Aniston', 'Brad Pitt', 'Angelina Jolie']\n",
      "['Tom Hanks', 'Brad Pitt', 'Angelina Jolie', 'Jennifer Aniston', 'Leonardo DiCaprio']\n",
      "['Leonardo DiCaprio', 'Jennifer Aniston', 'Angelina Jolie', 'Brad Pitt', 'Tom Hanks']\n",
      "['Jennifer Aniston', 'Leonardo DiCaprio', 'Tom Hanks', 'Angelina Jolie', 'Brad Pitt']\n",
      "['Brad Pitt', 'Angelina Jolie', 'Tom Hanks', 'Leonardo DiCaprio', 'Jennifer Aniston']\n"
     ]
    }
   ],
   "source": [
    "names = ['Tom Hanks', 'Brad Pitt', 'Angelina Jolie', 'Leonardo DiCaprio', 'Jennifer Aniston']\n",
    "# sort names asending by alphabet\n",
    "my_sort(names, compare=lambda x , y : x < y)\n",
    "print(names)\n",
    "# sort names decending by alphabet\n",
    "my_sort(names, compare=lambda x , y : x > y)\n",
    "print(names)\n",
    "# sort names asending by length of name\n",
    "my_sort(names, compare=lambda x, y : len(x) < len(y))\n",
    "print(names)\n",
    "# sort names decending by length of name\n",
    "my_sort(names, compare=lambda x, y : len(x) > len(y))\n",
    "print(names)\n",
    "# sort names asending by last name\n",
    "my_sort(names, compare=lambda x, y : x.split()[1] < y.split()[1])\n",
    "print(names)\n",
    "# sort names decending by last name\n",
    "my_sort(names, compare=lambda x, y : x.split()[1] > y.split()[1])\n",
    "print(names)"
   ]
  },
  {
   "cell_type": "code",
   "execution_count": 18,
   "metadata": {},
   "outputs": [
    {
     "name": "stdout",
     "output_type": "stream",
     "text": [
      "[-24  65   7   9  69  69  50  72 -95  22  75  37 -26 -23  24]\n"
     ]
    }
   ],
   "source": [
    "# filter syntax: filter(function, iterable)\n",
    "import numpy as np\n",
    "numbers = np.random.randint(-99, 99, 15)\n",
    "print(numbers)"
   ]
  },
  {
   "cell_type": "code",
   "execution_count": 27,
   "metadata": {},
   "outputs": [
    {
     "name": "stdout",
     "output_type": "stream",
     "text": [
      "[-24, -95, -26, -23]\n",
      "-168\n",
      "[-24 -95 -26 -23]\n",
      "-168\n",
      "-168\n",
      "-168\n"
     ]
    }
   ],
   "source": [
    "# filter out negative numbers from numbers using list comprehension\n",
    "negatives = [x for x in numbers if x < 0]\n",
    "print(negatives)\n",
    "print(sum(negatives))\n",
    "# filter out negative numbers from numbers using boolean indexing\n",
    "negatives = numbers[numbers < 0]\n",
    "print(negatives)\n",
    "print(sum(negatives))\n",
    "# filter out negative numbers from numbers using for loop\n",
    "negatives = []\n",
    "s = 0\n",
    "for x in numbers:\n",
    "    if x < 0:\n",
    "        s += x\n",
    "print(s)\n",
    "# filter out negative numbers from numers using filter function\n",
    "negatives = filter(lambda x : x < 0, numbers)\n",
    "print(sum(negatives))"
   ]
  },
  {
   "cell_type": "code",
   "execution_count": 43,
   "metadata": {},
   "outputs": [],
   "source": [
    "devices = {'iphone 14' : 999, 'samsung galaxy 13' : 800, 'xiaomi 11 pro' : 500, 'iphone 13' : 799, 'oppo v5' : 450, \n",
    "            'bphone 2' : 300, 'vin smart' : 200}"
   ]
  },
  {
   "cell_type": "code",
   "execution_count": 37,
   "metadata": {},
   "outputs": [
    {
     "name": "stdout",
     "output_type": "stream",
     "text": [
      "iphone 14: $999\n",
      "iphone 13: $799\n",
      "Average price is: $899.0\n"
     ]
    }
   ],
   "source": [
    "# find iphone device using filter function\n",
    "iphones = filter(lambda x : 'iphone' in x[0], devices.items())\n",
    "# calculate average price of iphones\n",
    "count = 0\n",
    "sum_price = 0\n",
    "for phone in iphones:\n",
    "    print(f'{phone[0]}: ${phone[1]}')\n",
    "    count += 1\n",
    "    sum_price += phone[1]\n",
    "print(f'Average price is: ${sum_price / count}')"
   ]
  },
  {
   "cell_type": "code",
   "execution_count": 41,
   "metadata": {},
   "outputs": [
    {
     "name": "stdout",
     "output_type": "stream",
     "text": [
      "['Hanks', 'Pitt', 'Jolie', 'DiCaprio', 'Aniston']\n",
      "['Hanks', 'Pitt', 'Jolie', 'DiCaprio', 'Aniston']\n"
     ]
    }
   ],
   "source": [
    "# map function syntax: map(function, iterable)\n",
    "names = ['Tom Hanks', 'Brad Pitt', 'Angelina Jolie', 'Leonardo DiCaprio', 'Jennifer Aniston']\n",
    "# get lst name using list comprehension\n",
    "last_name = [x.split()[1] for x in names]\n",
    "print(last_name)\n",
    "# get last name using map function\n",
    "last_name = list(map(lambda x : x.split()[1], names))\n",
    "print(last_name)"
   ]
  },
  {
   "cell_type": "code",
   "execution_count": 48,
   "metadata": {},
   "outputs": [
    {
     "name": "stdout",
     "output_type": "stream",
     "text": [
      "Sum of all prices: $4048\n",
      "Sum of all iphone prices: $1798\n"
     ]
    }
   ],
   "source": [
    "# print sum of all prices\n",
    "prices = map(lambda x : x[1], devices.items())\n",
    "print(f'Sum of all prices: ${sum(prices)}')\n",
    "# print sum of all iphone prices\n",
    "phone_prices = map(lambda x : x[1], filter(lambda x : 'iphone' in x[0], devices.items()))\n",
    "print(f'Sum of all iphone prices: ${sum(phone_prices)}')"
   ]
  }
 ],
 "metadata": {
  "kernelspec": {
   "display_name": "Python 3.10.7 64-bit",
   "language": "python",
   "name": "python3"
  },
  "language_info": {
   "codemirror_mode": {
    "name": "ipython",
    "version": 3
   },
   "file_extension": ".py",
   "mimetype": "text/x-python",
   "name": "python",
   "nbconvert_exporter": "python",
   "pygments_lexer": "ipython3",
   "version": "3.10.7"
  },
  "orig_nbformat": 4,
  "vscode": {
   "interpreter": {
    "hash": "4bab23f09fb65a505bfbe81ca14cc25f1573a18df8f89bc62fc496e048d8d28a"
   }
  }
 },
 "nbformat": 4,
 "nbformat_minor": 2
}
