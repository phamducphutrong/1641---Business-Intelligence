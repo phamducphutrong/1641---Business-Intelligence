{
 "cells": [
  {
   "cell_type": "code",
   "execution_count": 73,
   "metadata": {},
   "outputs": [],
   "source": [
    "# Suppose we have a data of 2d list, each row contains name, phone and salary\n",
    "employees = [['John Smith', '1234567890', 100],\n",
    "             ['Jane Doe', '2345678901', 200],\n",
    "             ['', '3456789012', 500],\n",
    "             ['Melody Pond', 'aa7890123', 300],\n",
    "             ['Dean Winchester', '56A89A123A', 1000],\n",
    "             ['Jodie Whiterrrrrrrrrrrrrrrrrrrrrrrrr', '6789012345', 3000]]"
   ]
  },
  {
   "cell_type": "code",
   "execution_count": 37,
   "metadata": {},
   "outputs": [],
   "source": [
    "def do_nothing(employees):\n",
    "    pass\n",
    "def clean_employees(employees, clean_name=do_nothing, clean_phone=do_nothing, clean_salary=do_nothing):\n",
    "    clean_name(employees)\n",
    "    clean_phone(employees)\n",
    "    clean_salary(employees)"
   ]
  },
  {
   "cell_type": "code",
   "execution_count": 38,
   "metadata": {},
   "outputs": [
    {
     "name": "stdout",
     "output_type": "stream",
     "text": [
      "[['John Smith', '1234567890', 100], ['Jane Doe', '2345678901', 200], ['Doe', '3456789012', 500], ['Melody Pond', 'aa7890123', 300], ['Dean Winchester', '56A89A123A', 1000], ['Jodie Whiterrrrrrrrrrrrrrrrrrrrrrrrr', '6789012345', 1500]]\n"
     ]
    }
   ],
   "source": [
    "def emtpy_2_default(employees):\n",
    "    for employee in employees:\n",
    "        if employee[0] == '':\n",
    "            employee[0] = 'Doe'\n",
    "clean_employees(employees, clean_name=emtpy_2_default)\n",
    "print(employees)"
   ]
  },
  {
   "cell_type": "code",
   "execution_count": 39,
   "metadata": {},
   "outputs": [
    {
     "name": "stdout",
     "output_type": "stream",
     "text": [
      "[['John Smith', '1234567890', 100], ['Jane Doe', '2345678901', 200], ['Doe', '3456789012', 500], ['Melody Pond', 'aa7890123', 300], ['Dean Winchester', '56A89A123A', 1000], ['Jodie Whiterrrrrrrrr', '6789012345', 1500]]\n"
     ]
    }
   ],
   "source": [
    "def truncate_longname(employees):\n",
    "    for employee in employees:\n",
    "        if len(employee[0]) > 20:\n",
    "            employee[0] = employee[0][0:20]\n",
    "clean_employees(employees, clean_name=truncate_longname)\n",
    "print(employees)"
   ]
  },
  {
   "cell_type": "code",
   "execution_count": 58,
   "metadata": {},
   "outputs": [
    {
     "name": "stdout",
     "output_type": "stream",
     "text": [
      "a a A A A [['John Smith', '1234567890', 100], ['Jane Doe', '2345678901', 200], ['', '3456789012', 500], ['Melody Pond', 'aa7890123', 300], ['Dean Winchester', '56A89A123A', 1000], ['Jodie Whiterrrrrrrrrrrrrrrrrrrrrrrrr', '6789012345', 1500]]\n"
     ]
    }
   ],
   "source": [
    "def digit_converter(employees):\n",
    "    for row in employees:\n",
    "        row[1] = ''.join(list(map(lambda x : x if x.isdigit() else '0', row[1])))\n",
    "clean_employees(employees, clean_phone=digit_converter)\n",
    "print(employees)\n"
   ]
  },
  {
   "cell_type": "code",
   "execution_count": 61,
   "metadata": {},
   "outputs": [
    {
     "name": "stdout",
     "output_type": "stream",
     "text": [
      "[['John Smith', '1234567890', 200], ['Jane Doe', '2345678901', 200], ['', '3456789012', 500], ['Melody Pond', 'aa7890123', 300], ['Dean Winchester', '56A89A123A', 1000], ['Jodie Whiterrrrrrrrrrrrrrrrrrrrrrrrr', '6789012345', 2000]]\n"
     ]
    }
   ],
   "source": [
    "def fix_salary(employees):\n",
    "    for row in employees:\n",
    "        if row[2] < 200:\n",
    "            row[2] = 200\n",
    "        if row[2] > 2000:\n",
    "            row[2] = 2000\n",
    "clean_employees(employees, clean_salary=fix_salary)\n",
    "print(employees)"
   ]
  },
  {
   "cell_type": "code",
   "execution_count": 68,
   "metadata": {},
   "outputs": [
    {
     "name": "stdout",
     "output_type": "stream",
     "text": [
      "[['John Smith', '1234567890', 100], ['Jane Doe', '2345678901', 200], ['', '3456789012', 500], ['Melody Pond', '007890123', 300], ['Dean Winchester', '5668991233', 1000], ['Jodie Whiterrrrrrrrrrrrrrrrrrrrrrrrr', '6789012345', 15000]]\n"
     ]
    }
   ],
   "source": [
    "def nondigit_2provious(employees):\n",
    "    for row in employees:\n",
    "        phone = [c for c in row[1]]\n",
    "        phone[0] = phone[0] if phone[0].isdigit() else '0'\n",
    "        for i in range(1, len(phone)):\n",
    "            phone[i] = phone[i] if phone[i].isdigit() else phone[i-1]\n",
    "            row[1] = ''.join(phone)\n",
    "clean_employees(employees, clean_phone=nondigit_2provious)\n",
    "print(employees)"
   ]
  },
  {
   "cell_type": "code",
   "execution_count": 74,
   "metadata": {},
   "outputs": [
    {
     "name": "stdout",
     "output_type": "stream",
     "text": [
      "[['John Smith', '1234567890', 850.0], ['Jane Doe', '2345678901', 200], ['', '3456789012', 500], ['Melody Pond', 'aa7890123', 300], ['Dean Winchester', '56A89A123A', 1000], ['Jodie Whiterrrrrrrrrrrrrrrrrrrrrrrrr', '6789012345', 850.0]]\n"
     ]
    }
   ],
   "source": [
    "def abcd(employees):\n",
    "    sum = 0\n",
    "    for employee in employees:\n",
    "        sum += employee[2]\n",
    "    avr = sum / len(employees)\n",
    "    for employee in employees:\n",
    "        if employee[2] < 200:\n",
    "            employee[2] = avr\n",
    "        if employee[2] > 2000:\n",
    "            employee[2] = avr\n",
    "clean_employees(employees, clean_salary=abcd)\n",
    "print(employees)"
   ]
  },
  {
   "cell_type": "code",
   "execution_count": 77,
   "metadata": {},
   "outputs": [],
   "source": [
    "# generator is cnsidered as a function, but it returns an iterator\n",
    "my_list = [x for x in range(10)]            # list comprehension\n",
    "my_generator = [x for x in range(10)]       # generator expression"
   ]
  },
  {
   "cell_type": "code",
   "execution_count": 78,
   "metadata": {},
   "outputs": [
    {
     "name": "stdout",
     "output_type": "stream",
     "text": [
      "45\n",
      "45\n"
     ]
    }
   ],
   "source": [
    "print(sum(my_list))\n",
    "print(sum(my_generator))"
   ]
  },
  {
   "cell_type": "code",
   "execution_count": 79,
   "metadata": {},
   "outputs": [
    {
     "name": "stdout",
     "output_type": "stream",
     "text": [
      "[57, 91, 50, 73, 87, 55, 10, 41, 31, 1, 50, 73, 79, 80, 36, 34, 59, 1, 46, 27]\n"
     ]
    }
   ],
   "source": [
    "import random as rd\n",
    "numbers = [rd.randint(1, 100) for _ in range(20)]\n",
    "print(numbers)"
   ]
  },
  {
   "cell_type": "code",
   "execution_count": 122,
   "metadata": {},
   "outputs": [],
   "source": [
    "# calculate sum of even numbers\n",
    "even_list = [x for x in numbers if x % 2 == 0] # list comprehension\n",
    "evens_gen = (x for x in numbers if x % 2 == 0) # generator\n"
   ]
  },
  {
   "cell_type": "code",
   "execution_count": 124,
   "metadata": {},
   "outputs": [
    {
     "name": "stdout",
     "output_type": "stream",
     "text": [
      "306\n",
      "0\n"
     ]
    }
   ],
   "source": [
    "print(sum(even_list))\n",
    "print(sum(evens_gen))"
   ]
  },
  {
   "cell_type": "code",
   "execution_count": 102,
   "metadata": {},
   "outputs": [],
   "source": [
    "def my_filter(f, items):\n",
    "    for i in items:\n",
    "        if f(i):\n",
    "            yield i"
   ]
  },
  {
   "cell_type": "code",
   "execution_count": 128,
   "metadata": {},
   "outputs": [
    {
     "name": "stdout",
     "output_type": "stream",
     "text": [
      "306\n"
     ]
    }
   ],
   "source": [
    "sum_even = sum(my_filter(lambda x : x % 2 == 0, numbers))\n",
    "print(sum_even)"
   ]
  },
  {
   "cell_type": "code",
   "execution_count": 131,
   "metadata": {},
   "outputs": [
    {
     "name": "stdout",
     "output_type": "stream",
     "text": [
      "Total:  412.5\n"
     ]
    }
   ],
   "source": [
    "pizza_solds = [['John', '10:00', 15],\n",
    "               ['Paul', '11:00', 20],\n",
    "               ['George', '12:00', 18],\n",
    "               ['Ringo', '13:00', 22]]\n",
    "price = 5.5\n",
    "number_pizzas = (x[2] for x in pizza_solds)\n",
    "incomes = (n * price for n in number_pizzas)\n",
    "print('Total: ', sum(incomes))"
   ]
  },
  {
   "cell_type": "code",
   "execution_count": 132,
   "metadata": {},
   "outputs": [],
   "source": [
    "def rec_fibonacci(n):\n",
    "    if n < 2:\n",
    "        return n\n",
    "    return rec_fibonacci(n - 1) + rec_fibonacci(n - 2)"
   ]
  },
  {
   "cell_type": "code",
   "execution_count": 136,
   "metadata": {},
   "outputs": [],
   "source": [
    "def fibo_gen():\n",
    "    a, b = 0,  1\n",
    "    while True:\n",
    "        yield a\n",
    "        a, b = b, a + b"
   ]
  },
  {
   "cell_type": "code",
   "execution_count": 138,
   "metadata": {},
   "outputs": [],
   "source": [
    "def fibonacci(n):\n",
    "    i = 0\n",
    "    for f in fibo_gen():\n",
    "        if i == n:\n",
    "            return f\n",
    "        i += 1"
   ]
  },
  {
   "cell_type": "code",
   "execution_count": 140,
   "metadata": {},
   "outputs": [
    {
     "name": "stdout",
     "output_type": "stream",
     "text": [
      "0 1 1 2 3 5 8 13 21 34 \n",
      "55 89 144 233 377 610 987 1597 2584 4181 \n",
      "6765 10946 17711 28657 46368 75025 121393 196418 317811 514229 \n",
      "832040 1346269 2178309 3524578 5702887 9227465 14930352 24157817 39088169 63245986 \n",
      "102334155 165580141 267914296 433494437 701408733 1134903170 1836311903 2971215073 4807526976 7778742049 \n"
     ]
    }
   ],
   "source": [
    "for i in range(50):\n",
    "    print(fibonacci(i), end=' ')\n",
    "    if (i + 1) % 10 == 0:\n",
    "        print()"
   ]
  }
 ],
 "metadata": {
  "kernelspec": {
   "display_name": "Python 3.10.7 64-bit",
   "language": "python",
   "name": "python3"
  },
  "language_info": {
   "codemirror_mode": {
    "name": "ipython",
    "version": 3
   },
   "file_extension": ".py",
   "mimetype": "text/x-python",
   "name": "python",
   "nbconvert_exporter": "python",
   "pygments_lexer": "ipython3",
   "version": "3.10.7"
  },
  "orig_nbformat": 4,
  "vscode": {
   "interpreter": {
    "hash": "4bab23f09fb65a505bfbe81ca14cc25f1573a18df8f89bc62fc496e048d8d28a"
   }
  }
 },
 "nbformat": 4,
 "nbformat_minor": 2
}
