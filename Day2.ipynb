{
 "cells": [
  {
   "cell_type": "code",
   "execution_count": 1,
   "metadata": {},
   "outputs": [
    {
     "name": "stdout",
     "output_type": "stream",
     "text": [
      "[1, 2, 3, 3, 4, 5]\n",
      "[1, 2, 3, 1, 2, 3, 1, 2, 3]\n"
     ]
    }
   ],
   "source": [
    "a = [1, 2, 3]\n",
    "b = [3, 4, 5]\n",
    "c = a + b\n",
    "d = a * 3\n",
    "print(c)\n",
    "print(d)\n"
   ]
  },
  {
   "cell_type": "code",
   "execution_count": 2,
   "metadata": {},
   "outputs": [
    {
     "name": "stdout",
     "output_type": "stream",
     "text": [
      "john Mary Bob Alice "
     ]
    }
   ],
   "source": [
    "names = ['john', 'Mary', 'Bob', 'Alice']\n",
    "for n in names:\n",
    "    print(n, end= ' ')"
   ]
  },
  {
   "cell_type": "code",
   "execution_count": 3,
   "metadata": {},
   "outputs": [
    {
     "name": "stdout",
     "output_type": "stream",
     "text": [
      "1 john\n",
      "2 Mary\n",
      "3 Bob\n",
      "4 Alice\n"
     ]
    }
   ],
   "source": [
    "for i in range(len(names)):\n",
    "    print(i + 1, names[i])"
   ]
  },
  {
   "cell_type": "code",
   "execution_count": 5,
   "metadata": {},
   "outputs": [],
   "source": [
    "students = ['John', 'Mary', 'Bob', 'Alice', 'Mike', 'Jane', 'Tom', 'Jack']\n",
    "grades = [3.5, 7.0, 5.5, 8.0, 6.0, 9.0, 7.5, 8.5]"
   ]
  },
  {
   "cell_type": "code",
   "execution_count": 7,
   "metadata": {},
   "outputs": [
    {
     "name": "stdout",
     "output_type": "stream",
     "text": [
      "Alice 8.0\n",
      "Jane 9.0\n",
      "Jack 8.5\n",
      "3\n"
     ]
    }
   ],
   "source": [
    "# Print distinction students (grade >= 8.0), count the number of distinction students\n",
    "count = 0\n",
    "for i in range(len(students)):\n",
    "    if grades[i] >= 8.0:\n",
    "        print(students[i], grades[i])\n",
    "        count += 1\n",
    "print(count)"
   ]
  },
  {
   "cell_type": "code",
   "execution_count": 13,
   "metadata": {},
   "outputs": [
    {
     "name": "stdout",
     "output_type": "stream",
     "text": [
      "Name: Pen Sale: 180.0\n",
      "Name: Pencil Sale: 312.0\n",
      "Name: Notebook Sale: 140.0\n",
      "Name: Eraser Sale: 150.0\n",
      "Name: Stapler Sale: 270.0\n",
      "total sale: 1052.0\n",
      "Max sale: 312.0\n"
     ]
    }
   ],
   "source": [
    "products = ['Pen', 'Pencil', 'Notebook', 'Eraser', 'Stapler']\n",
    "prices = [1.5, 1.2, 2.0, 0.5, 3.0]\n",
    "solds = [120, 260, 70, 300, 90]\n",
    "\n",
    "# TODO: print each product with its sales (price * sold), finally print the total sale and print the product with the highest sales\n",
    "total_sale = 0\n",
    "max_sale = 0\n",
    "for i in range(len(products)):\n",
    "    sale = prices[i] * solds[i]\n",
    "    print('Name: ' + str(products[i]) + ' Sale: $' + str(sale))\n",
    "    total_sale += sale\n",
    "    if sale > max_sale:\n",
    "        max_sale = sale\n",
    "print('Total sale: ' + str(total_sale))\n",
    "print('Max sale: ' + str(max_sale))"
   ]
  },
  {
   "cell_type": "code",
   "execution_count": 41,
   "metadata": {},
   "outputs": [
    {
     "name": "stdout",
     "output_type": "stream",
     "text": [
      "[51, 97, 65, 21, 35, 7, 23, 48, 2, 59]\n",
      "[23, 48]\n",
      "[51, 97, 65, 21, 35]\n",
      "[2, 59]\n",
      "[51, 97, 65, 21, 35, 7, 23, 48, 2]\n",
      "[51, 65, 35, 23, 2]\n"
     ]
    }
   ],
   "source": [
    "import random as rd\n",
    "# slicing: create a sub-list from a list\n",
    "numbers = rd.sample(range(1,100), 10) # create 10 random numbers from 1 to 99\n",
    "print(numbers)\n",
    "print(numbers[6:8]) # start = 6 (index = 6), end = 8 (index = 7)\n",
    "print(numbers[:5])  # start = 0 (index = 0), end = 5 (index = 4) \n",
    "print(numbers[8:])  # start = 8 (index = 8), end = 10 (index = 9)\n",
    "print(numbers[:-1]) \n",
    "print(numbers[0:10:2])"
   ]
  },
  {
   "cell_type": "code",
   "execution_count": 32,
   "metadata": {},
   "outputs": [
    {
     "name": "stdout",
     "output_type": "stream",
     "text": [
      "[96, 72, 23, 34, 82, 73, 65, 33, 53, 49]\n",
      "[49, 53, 33, 65, 73, 82, 34, 23, 72, 96]\n"
     ]
    }
   ],
   "source": [
    "# reverse a list\n",
    "print(numbers)\n",
    "print(numbers[::-1])"
   ]
  },
  {
   "cell_type": "code",
   "execution_count": null,
   "metadata": {},
   "outputs": [],
   "source": [
    "# List's methods\n",
    "# sort(): sort a list (asending order or desending order)\n",
    "# append(): add an item to the end of a list\n",
    "# insert(): insert an item to a list at a specified position\n",
    "# remove(): remove an item from a list based on its value"
   ]
  },
  {
   "cell_type": "code",
   "execution_count": 40,
   "metadata": {},
   "outputs": [
    {
     "name": "stdout",
     "output_type": "stream",
     "text": [
      "[23, 33, 34, 49, 53, 65, 72, 73, 82, 96, 100, 100, 100, 100, 100, 100, 200]\n",
      "[200, 100, 100, 100, 100, 100, 100, 96, 82, 73, 72, 65, 53, 49, 34, 33, 23]\n",
      "[200, 100, 100, 100, 100, 100, 100, 96, 82, 73, 72, 65, 53, 49, 34, 33, 23, 100]\n",
      "[200, 100, 100, 100, 100, 200, 100, 100, 96, 82, 73, 72, 65, 53, 49, 34, 33, 23, 100]\n",
      "[200, 100, 100, 100, 100, 200, 100, 100, 96, 82, 73, 65, 53, 49, 34, 33, 23, 100]\n"
     ]
    }
   ],
   "source": [
    "numbers.sort() # sort in asending order by default\n",
    "print(numbers)\n",
    "numbers.sort(reverse=True) # sort in descending order\n",
    "print(numbers)\n",
    "numbers.append(100) # add 100 to the end of the list\n",
    "print(numbers)\n",
    "numbers.insert(5, 200) # insert 200 to the list at index 5\n",
    "print(numbers)\n",
    "numbers.remove(72)\n",
    "print(numbers)"
   ]
  },
  {
   "cell_type": "code",
   "execution_count": 43,
   "metadata": {},
   "outputs": [
    {
     "name": "stdout",
     "output_type": "stream",
     "text": [
      "[51, 97, 65, 21, 35, 7, 23, 48, 2, 59]\n",
      "Length of numbers:  10\n",
      "Min item of numbers:  2\n",
      "Max item of numbers:  97\n",
      "Sum of all items in numbers:  408\n"
     ]
    }
   ],
   "source": [
    "# Function for list\n",
    "# len(): returns the length of a list\n",
    "# min(): returns the minimum value of a list\n",
    "# max(): returns the maximum value of a list\n",
    "# sum(): returns the sum of all items in a list\n",
    "print(numbers)\n",
    "print('Length of numbers: ', len(numbers))\n",
    "print('Min item of numbers: ', min(numbers))\n",
    "print('Max item of numbers: ', max(numbers))\n",
    "print('Sum of all items in numbers: ', sum(numbers))"
   ]
  },
  {
   "cell_type": "code",
   "execution_count": 45,
   "metadata": {},
   "outputs": [
    {
     "name": "stdout",
     "output_type": "stream",
     "text": [
      "Student with highest grade: Jane\n"
     ]
    }
   ],
   "source": [
    "students = ['John', 'Mary', 'Bob', 'Alice', 'Mike', 'Jane', 'Tom', 'Jack']\n",
    "grades = [3.5, 7.0, 5.5, 8.0, 6.0, 9.0, 7.5, 8.5]\n",
    "# TODO: print the student with the highest grade\n",
    "print('Student with highest grade:', students[grades.index(max(grades))])"
   ]
  },
  {
   "cell_type": "code",
   "execution_count": 46,
   "metadata": {},
   "outputs": [
    {
     "name": "stdout",
     "output_type": "stream",
     "text": [
      "(1, 2, 3, 4, 5) <class 'tuple'>\n"
     ]
    }
   ],
   "source": [
    "# tuple: a list that items cannot be changed\n",
    "# declare a tuple\n",
    "a = (1, 2, 3, 4, 5)\n",
    "print(a, type(a))"
   ]
  },
  {
   "cell_type": "code",
   "execution_count": null,
   "metadata": {},
   "outputs": [],
   "source": [
    "a[0] = 10 #error"
   ]
  },
  {
   "cell_type": "code",
   "execution_count": 47,
   "metadata": {},
   "outputs": [
    {
     "name": "stdout",
     "output_type": "stream",
     "text": [
      "(10, 2, 3, 4, 5)\n"
     ]
    }
   ],
   "source": [
    "a = (10, 2, 3, 4, 5) # this is a different tuple\n",
    "print(a)"
   ]
  },
  {
   "cell_type": "code",
   "execution_count": 97,
   "metadata": {},
   "outputs": [
    {
     "name": "stdout",
     "output_type": "stream",
     "text": [
      "[8, 1, 82, 64, 77, 37, 86, 27, 74, 73, 60, 47, 84, 44, 97, 10, 33, 49, 68, 5]\n",
      "[8, 1, 82, 64, 77, 37, 86, 27, 74, 73]\n",
      "[60, 47, 84, 44, 97, 10, 33, 49, 68, 5]\n",
      "[77, 37, 86, 27, 74, 73, 60, 47, 84, 44, 97, 10]\n",
      "[8, 1, 82, 64, 33, 49, 68, 5]\n"
     ]
    }
   ],
   "source": [
    "list = rd.sample(range(1, 99), 20)\n",
    "print(list)\n",
    "print(list[:len(list) // 2])\n",
    "print(list[len(list) // 2:])\n",
    "n = int(input('Enter n: '))\n",
    "print(list[n:(len(list) - n)])\n",
    "the_rest = list[:n] + list[len(list) - n:]\n",
    "print(the_rest)"
   ]
  },
  {
   "cell_type": "code",
   "execution_count": 100,
   "metadata": {},
   "outputs": [
    {
     "name": "stdout",
     "output_type": "stream",
     "text": [
      "77\n"
     ]
    }
   ],
   "source": [
    "n = int(input('Enter n: '))\n",
    "print(list[n])"
   ]
  }
 ],
 "metadata": {
  "kernelspec": {
   "display_name": "Python 3.10.8 64-bit",
   "language": "python",
   "name": "python3"
  },
  "language_info": {
   "codemirror_mode": {
    "name": "ipython",
    "version": 3
   },
   "file_extension": ".py",
   "mimetype": "text/x-python",
   "name": "python",
   "nbconvert_exporter": "python",
   "pygments_lexer": "ipython3",
   "version": "3.10.8"
  },
  "orig_nbformat": 4,
  "vscode": {
   "interpreter": {
    "hash": "26de051ba29f2982a8de78e945f0abaf191376122a1563185a90213a26c5da77"
   }
  }
 },
 "nbformat": 4,
 "nbformat_minor": 2
}
