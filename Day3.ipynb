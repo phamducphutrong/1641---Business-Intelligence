{
 "cells": [
  {
   "cell_type": "code",
   "execution_count": 11,
   "metadata": {},
   "outputs": [
    {
     "name": "stdout",
     "output_type": "stream",
     "text": [
      "1 2 3 4 5 6 7 8 9 6\n",
      "[4, 5, 6]\n",
      "[[4, 5, 6], [7, 8, 9]]\n",
      "[4, 5, 6]\n",
      "[[4, 5, 6]]\n"
     ]
    }
   ],
   "source": [
    "# 2d lists: list of lists\n",
    "a = [[1, 2, 3], [4, 5, 6], [7, 8, 9]]\n",
    "for row in a:\n",
    "    for col in row:\n",
    "        print(col, end=\" \")\n",
    "# get number 6\n",
    "print(a[1][2])\n",
    "# print 2 nd row\n",
    "print(a[1])\n",
    "#clicing same as 1d list\n",
    "print(a[1:3])\n",
    "print(a[1])\n",
    "print(a[1:2])"
   ]
  },
  {
   "cell_type": "code",
   "execution_count": 13,
   "metadata": {},
   "outputs": [],
   "source": [
    "student_grades = [['john', 7.5], ['Mary', 9.0], ['Bob', 6.0], ['Alice', 8.0], ['Mike', 4.0], ['Anna', 10.0], ['Tom', 5.0], ['Peter', 3.5], ['Jane', 9.5], ['Jack', 6.5]]"
   ]
  },
  {
   "cell_type": "code",
   "execution_count": 16,
   "metadata": {},
   "outputs": [
    {
     "name": "stdout",
     "output_type": "stream",
     "text": [
      "Name: Mary, Grade: 9.0\n",
      "Name: Alice, Grade: 8.0\n",
      "Name: Anna, Grade: 10.0\n",
      "Name: Jane, Grade: 9.5\n"
     ]
    }
   ],
   "source": [
    "# print disctintion students who have grade >= 8.0\n",
    "for student in student_grades:\n",
    "    if student[1] >= 8.0:\n",
    "        print(f'Name: {student[0]}, Grade: {student[1]}')"
   ]
  },
  {
   "cell_type": "code",
   "execution_count": 15,
   "metadata": {},
   "outputs": [
    {
     "name": "stdout",
     "output_type": "stream",
     "text": [
      "Number of passed students are:  9\n"
     ]
    }
   ],
   "source": [
    "# Count how many passed students (grade >= 4.0)\n",
    "count = 0\n",
    "for student in student_grades:\n",
    "    if student[1] >= 4.0:\n",
    "        count += 1\n",
    "print('Number of passed students are: ', count)"
   ]
  },
  {
   "cell_type": "code",
   "execution_count": 21,
   "metadata": {},
   "outputs": [
    {
     "name": "stdout",
     "output_type": "stream",
     "text": [
      "length of list is:  4\n",
      "6\n"
     ]
    },
    {
     "ename": "IndexError",
     "evalue": "list index out of range",
     "output_type": "error",
     "traceback": [
      "\u001b[1;31m---------------------------------------------------------------------------\u001b[0m",
      "\u001b[1;31mIndexError\u001b[0m                                Traceback (most recent call last)",
      "Cell \u001b[1;32mIn [21], line 8\u001b[0m\n\u001b[0;32m      6\u001b[0m \u001b[39mprint\u001b[39m(\u001b[39m'\u001b[39m\u001b[39mlength of list is: \u001b[39m\u001b[39m'\u001b[39m, \u001b[39mlen\u001b[39m(a))\n\u001b[0;32m      7\u001b[0m \u001b[39mprint\u001b[39m(a[\u001b[39m3\u001b[39m][\u001b[39m2\u001b[39m])\n\u001b[1;32m----> 8\u001b[0m \u001b[39mprint\u001b[39m(a[\u001b[39m2\u001b[39;49m][\u001b[39m2\u001b[39;49m])\n",
      "\u001b[1;31mIndexError\u001b[0m: list index out of range"
     ]
    }
   ],
   "source": [
    "# length of row can be different\n",
    "a = [[],\n",
    "    [1],\n",
    "    [2, 3],\n",
    "    [4, 5, 6]]\n",
    "print('length of list is: ', len(a))\n",
    "print(a[3][2])\n",
    "print(a[2][2]) #error"
   ]
  },
  {
   "cell_type": "code",
   "execution_count": 41,
   "metadata": {},
   "outputs": [
    {
     "name": "stdout",
     "output_type": "stream",
     "text": [
      "[[89, 69, 55, 34, 49], [64, 49, 8, 33, 32], [74, 54, 23, 20, 70], [34, 36, 86, 79, 73], [23, 20, 34, 19, 58]]\n",
      "[[64, 49, 8, 33, 32], [74, 54, 23, 20, 70], [34, 36, 86, 79, 73]]\n",
      "[[64, 49, 8, 33, 32], [74, 54, 23, 20, 70], [34, 36, 86, 79, 73]]\n",
      "[[64, 49, 8, 33, 32], [74, 54, 23, 20, 70], [34, 36, 86, 79, 73]]\n",
      "[[64, 49, 8, 33, 32], [74, 54, 23, 20, 70], [34, 36, 86, 79, 73]]\n",
      "[[34, 36, 86, 79, 73], [23, 20, 34, 19, 58]]\n",
      "[[34, 36, 86, 79, 73], [23, 20, 34, 19, 58]]\n",
      "[[34, 36, 86, 79, 73], [23, 20, 34, 19, 58]]\n",
      "Max of 3 row: 86, min of 3 row: 34\n",
      "Sum of a[3] 308\n",
      "Sorted a(3): [34, 36, 73, 79, 86]\n"
     ]
    }
   ],
   "source": [
    "# Exercise\n",
    "import random as rd\n",
    "# Create 2d list 5x5 of random integers\n",
    "a = []\n",
    "for i in range(5):\n",
    "    a.append(rd.sample(range(1, 100), 5))\n",
    "print(a)\n",
    "# Get 3 middle rows in as many ways as you can\n",
    "print(a[1:4])\n",
    "print(a[-4: -1])\n",
    "print(a[1: -1])\n",
    "print(a[-4: 4])\n",
    "count = 1\n",
    "for row in a:\n",
    "    if count <= 3:\n",
    "        if count == 1:\n",
    "            continue\n",
    "    print(row)\n",
    "# Get 2 last rows in as many ways as you can\n",
    "print(a[3:5])\n",
    "print(a[3:])\n",
    "print(a[-2:])\n",
    "#Enter n from keyboard, get max, min of nth row and print them\n",
    "n = int(input('Enter n: '))\n",
    "print(f'Max of {n} row: {max(a[n])}, min of {n} row: {min(a[n])}')\n",
    "print(f'Sum of a{[n]} {sum(a[n])}')\n",
    "print(f'Sorted a({n}): {sorted(a[n])}')"
   ]
  },
  {
   "cell_type": "code",
   "execution_count": 2,
   "metadata": {},
   "outputs": [
    {
     "name": "stdout",
     "output_type": "stream",
     "text": [
      "[1, 2, 3] <class 'list'>\n",
      "[1 2 3] <class 'numpy.ndarray'>\n"
     ]
    }
   ],
   "source": [
    "import numpy as np\n",
    "# Create array from list\n",
    "a = [1, 2, 3]\n",
    "b = np.array(a)\n",
    "print(a, type(a))\n",
    "print(b, type(b))"
   ]
  },
  {
   "cell_type": "code",
   "execution_count": 45,
   "metadata": {},
   "outputs": [
    {
     "name": "stdout",
     "output_type": "stream",
     "text": [
      "[0 1 2 3 4 5 6 7 8 9]\n",
      "[1 3 5 7 9]\n"
     ]
    }
   ],
   "source": [
    "# Create array from arange function (similar range function)\n",
    "a = np.arange(10)\n",
    "print(a)\n",
    "a = np.arange(1, 10, 2) #start, end (exclusive), distance\n",
    "print(a)"
   ]
  },
  {
   "cell_type": "code",
   "execution_count": 63,
   "metadata": {},
   "outputs": [
    {
     "name": "stdout",
     "output_type": "stream",
     "text": [
      "[0. 1. 2. 3. 4. 5. 6. 7. 8. 9.]\n"
     ]
    }
   ],
   "source": [
    "# Create array from linespace(start, end (inclusive), n(number of items)) function\n",
    "a = np.linspace(0, 9, 10)\n",
    "print(a)"
   ]
  },
  {
   "cell_type": "code",
   "execution_count": 61,
   "metadata": {},
   "outputs": [
    {
     "name": "stdout",
     "output_type": "stream",
     "text": [
      "[   1    2    4    8   16   32   64  128  256  512 1024]\n",
      "0.8939966636005579\n"
     ]
    }
   ],
   "source": [
    "# Create array from logspace(start, end, n) function\n",
    "a = np.logspace(0, 10, 11, base=2, dtype=int)\n",
    "print(a)"
   ]
  },
  {
   "cell_type": "code",
   "execution_count": 67,
   "metadata": {},
   "outputs": [
    {
     "name": "stdout",
     "output_type": "stream",
     "text": [
      "[ 50  51  52  53  54  55  56  57  58  59  60  61  62  63  64  65  66  67\n",
      "  68  69  70  71  72  73  74  75  76  77  78  79  80  81  82  83  84  85\n",
      "  86  87  88  89  90  91  92  93  94  95  96  97  98  99 100]\n",
      "[2.         2.21428571 2.42857143 2.64285714 2.85714286 3.07142857\n",
      " 3.28571429 3.5        3.71428571 3.92857143 4.14285714 4.35714286\n",
      " 4.57142857 4.78571429 5.        ]\n",
      "[1.         0.92587471 0.85724398 0.79370053 0.73486725 0.680395\n",
      " 0.62996052 0.58326452 0.54002987 0.5       ]\n",
      "[    3     9    27    81   243   729  2187  6561 19683 59049]\n"
     ]
    }
   ],
   "source": [
    "# Create array from 50 - 100, step 5\n",
    "a = np.arange(50, 101)\n",
    "print(a)\n",
    "# Create 15 numbers from 2 to 5\n",
    "b = np.linspace(2, 5, 15)\n",
    "print(b)\n",
    "# Create 10 numbers from 0 to 1\n",
    "c = np.logspace(0,1,10,base=0.5)\n",
    "print(c)\n",
    "# Create these numbers: 3, 9, 27, 81, 243, 729, 2187, 6561, 19683, 59049\n",
    "d = np.logspace(1, 10, 10, base=3, dtype=int)\n",
    "print(d)"
   ]
  },
  {
   "cell_type": "code",
   "execution_count": 69,
   "metadata": {},
   "outputs": [
    {
     "name": "stdout",
     "output_type": "stream",
     "text": [
      "[0. 0. 0. 0. 0. 0. 0. 0. 0. 0.]\n",
      "[[1. 1. 1.]\n",
      " [1. 1. 1.]\n",
      " [1. 1. 1.]]\n"
     ]
    }
   ],
   "source": [
    "# Create arrays of zeros, ones\n",
    "zeros = np.zeros(10)\n",
    "print(zeros)\n",
    "ones = np.ones((3, 3))\n",
    "print(ones)"
   ]
  },
  {
   "cell_type": "code",
   "execution_count": 72,
   "metadata": {},
   "outputs": [
    {
     "name": "stdout",
     "output_type": "stream",
     "text": [
      "[20 11 85 72 70]\n",
      "[30 21 95 82 80]\n",
      "[10  1 75 62 60]\n",
      "[200 110 850 720 700]\n",
      "[2.  1.1 8.5 7.2 7. ]\n",
      "[0 1 5 2 0]\n",
      "[2 1 8 7 7]\n",
      "[ 400  121 7225 5184 4900]\n"
     ]
    }
   ],
   "source": [
    "# Array operations: +, -, *, /, %, //, ** with number\n",
    "a = np.random.randint(10, 100, 5) #exclusive\n",
    "print(a)\n",
    "print(a + 10)\n",
    "print(a - 10)\n",
    "print(a * 10)\n",
    "print(a / 10)\n",
    "print(a % 10)\n",
    "print(a // 10)\n",
    "print(a ** 2)"
   ]
  },
  {
   "cell_type": "code",
   "execution_count": 73,
   "metadata": {},
   "outputs": [
    {
     "name": "stdout",
     "output_type": "stream",
     "text": [
      "[5 7 9]\n",
      "[-3 -3 -3]\n",
      "[ 4 10 18]\n",
      "[0.25 0.4  0.5 ]\n",
      "[1 2 3]\n",
      "[0 0 0]\n",
      "[  1  32 729]\n"
     ]
    }
   ],
   "source": [
    "# Array operators: +, -, *, /, %, //, ** with array (same size)\n",
    "a = np.array([1, 2, 3])\n",
    "b = np.array([4, 5, 6])\n",
    "print(a + b)\n",
    "print(a - b)\n",
    "print(a * b)\n",
    "print(a / b)\n",
    "print(a % b)\n",
    "print(a // b)\n",
    "print(a ** b)"
   ]
  },
  {
   "cell_type": "code",
   "execution_count": 3,
   "metadata": {},
   "outputs": [
    {
     "name": "stdout",
     "output_type": "stream",
     "text": [
      "[30 75 53 31 82 23 81 15 61 22]\n",
      "[ True False False False  True False False False False  True]\n",
      "[ True False False False  True False False False False  True]\n",
      "[30 82 22]\n"
     ]
    }
   ],
   "source": [
    "# Boolean indexing\n",
    "a = np.random.randint(10, 100, 10)\n",
    "print(a)\n",
    "print(a % 2 == 0)\n",
    "b = a % 2 == 0\n",
    "print(b)\n",
    "print(a[b])"
   ]
  },
  {
   "cell_type": "code",
   "execution_count": 8,
   "metadata": {},
   "outputs": [
    {
     "name": "stdout",
     "output_type": "stream",
     "text": [
      "[23]\n",
      "[56 54 56]\n"
     ]
    }
   ],
   "source": [
    "# Find number that has the last digit is 3\n",
    "a = np.random.randint(10, 100, 10)\n",
    "print(a[a % 10 == 3])\n",
    "# Find number that has the first digit is 5\n",
    "print(a[a // 10 == 5])"
   ]
  },
  {
   "cell_type": "code",
   "execution_count": 10,
   "metadata": {},
   "outputs": [
    {
     "name": "stdout",
     "output_type": "stream",
     "text": [
      "[[43 86 96 70 95]\n",
      " [99 39 48 61 18]\n",
      " [59 49 64 24 66]\n",
      " [87 61 68 82 30]\n",
      " [88 28 74 82 56]]\n",
      "24\n",
      "24\n"
     ]
    }
   ],
   "source": [
    "# 1d Array Indexing & slicing: same as list\n",
    "\n",
    "# 2d Array Indexing & slicing\n",
    "a = np.random.randint(10, 100, (5, 5))\n",
    "print(a)\n",
    "print(a[2][3]) #Indexing of list style\n",
    "print(a[2, 3]) # Indexing of array style"
   ]
  },
  {
   "cell_type": "code",
   "execution_count": 11,
   "metadata": {},
   "outputs": [
    {
     "name": "stdout",
     "output_type": "stream",
     "text": [
      "[[99 39 48 61 18]\n",
      " [59 49 64 24 66]\n",
      " [87 61 68 82 30]]\n"
     ]
    }
   ],
   "source": [
    "# Slice rows:\n",
    "print(a[1:4])\n"
   ]
  },
  {
   "cell_type": "code",
   "execution_count": 15,
   "metadata": {},
   "outputs": [
    {
     "name": "stdout",
     "output_type": "stream",
     "text": [
      "[[86 96]\n",
      " [39 48]\n",
      " [49 64]\n",
      " [61 68]\n",
      " [28 74]]\n"
     ]
    }
   ],
   "source": [
    "# Slice columns:\n",
    "print(a[:, 1:3])"
   ]
  },
  {
   "cell_type": "code",
   "execution_count": 14,
   "metadata": {},
   "outputs": [
    {
     "name": "stdout",
     "output_type": "stream",
     "text": [
      "[[48 61]\n",
      " [64 24]\n",
      " [68 82]]\n"
     ]
    }
   ],
   "source": [
    "# Slice both rows and columns:\n",
    "print(a[1:4, 2:4])"
   ]
  },
  {
   "cell_type": "code",
   "execution_count": 16,
   "metadata": {},
   "outputs": [
    {
     "name": "stdout",
     "output_type": "stream",
     "text": [
      "5 (5, 5)\n"
     ]
    }
   ],
   "source": [
    "print(len(a), np.shape(a))"
   ]
  },
  {
   "cell_type": "code",
   "execution_count": 22,
   "metadata": {},
   "outputs": [
    {
     "name": "stdout",
     "output_type": "stream",
     "text": [
      "[43 86 96 70 95] [[43 86 96 70 95]]\n",
      "(5,) (1, 5)\n",
      "[[43]\n",
      " [86]\n",
      " [96]\n",
      " [70]\n",
      " [95]] (5, 1)\n"
     ]
    }
   ],
   "source": [
    "b = a[0]\n",
    "c = a[0:1, :]\n",
    "print(b, c)\n",
    "print(np.shape(b), np.shape(c))\n",
    "# transpose c\n",
    "d = c.T\n",
    "print(d, np.shape(d))"
   ]
  }
 ],
 "metadata": {
  "kernelspec": {
   "display_name": "Python 3.10.7 64-bit",
   "language": "python",
   "name": "python3"
  },
  "language_info": {
   "codemirror_mode": {
    "name": "ipython",
    "version": 3
   },
   "file_extension": ".py",
   "mimetype": "text/x-python",
   "name": "python",
   "nbconvert_exporter": "python",
   "pygments_lexer": "ipython3",
   "version": "3.10.7"
  },
  "orig_nbformat": 4,
  "vscode": {
   "interpreter": {
    "hash": "4bab23f09fb65a505bfbe81ca14cc25f1573a18df8f89bc62fc496e048d8d28a"
   }
  }
 },
 "nbformat": 4,
 "nbformat_minor": 2
}
